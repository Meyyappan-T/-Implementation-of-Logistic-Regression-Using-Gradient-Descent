{
  "nbformat": 4,
  "nbformat_minor": 0,
  "metadata": {
    "colab": {
      "provenance": [],
      "authorship_tag": "ABX9TyN7H2U/N2CsKaCJmAYYt8FB",
      "include_colab_link": true
    },
    "kernelspec": {
      "name": "python3",
      "display_name": "Python 3"
    },
    "language_info": {
      "name": "python"
    }
  },
  "cells": [
    {
      "cell_type": "markdown",
      "metadata": {
        "id": "view-in-github",
        "colab_type": "text"
      },
      "source": [
        "<a href=\"https://colab.research.google.com/github/Meyyappan-T/-Implementation-of-Logistic-Regression-Using-Gradient-Descent/blob/main/Workshop_dl.ipynb\" target=\"_parent\"><img src=\"https://colab.research.google.com/assets/colab-badge.svg\" alt=\"Open In Colab\"/></a>"
      ]
    },
    {
      "cell_type": "code",
      "source": [],
      "metadata": {
        "id": "przzkrHvI8Oe"
      },
      "execution_count": null,
      "outputs": []
    },
    {
      "cell_type": "code",
      "execution_count": 7,
      "metadata": {
        "id": "n7JayqJ52pEn"
      },
      "outputs": [],
      "source": [
        "import torch\n",
        "import torch.nn as nn\n",
        "import torch.optim as optim\n",
        "import pandas as pd\n",
        "import numpy as np\n",
        "import matplotlib.pyplot as plt\n",
        "from sklearn.model_selection import train_test_split\n",
        "%matplotlib inline"
      ]
    },
    {
      "cell_type": "code",
      "source": [
        "df = pd.read_csv('adult.csv')\n",
        "\n",
        "# Identify columns\n",
        "cat_cols = ['Workclass', 'Education', 'Marital Status', 'Occupation', 'Relationship', 'Race', 'Gender', 'Native Country']\n",
        "con_cols = ['Age', 'Final Weight', 'EducationNum', 'Capital Gain', 'capital loss', 'Hours per Week']\n",
        "target_col = 'Income'\n",
        "\n",
        "# Handle missing values in categorical columns (replace '?' with 'Unknown')\n",
        "for col in cat_cols:\n",
        "    df[col] = df[col].replace(' ?', 'Unknown')\n",
        "\n",
        "# Encode target: <=50K -> 0, >50K -> 1\n",
        "df[target_col] = (df[target_col] == ' >50K').astype(int)\n",
        "\n",
        "# Split into train and test (25,000 train, 5,000 test)\n",
        "# Assuming the dataset has at least 30,000 rows as per task\n",
        "train_df, test_df = train_test_split(df, train_size=25000, random_state=33, stratify=df[target_col])\n",
        "\n",
        "print(f\"Train shape: {train_df.shape}, Test shape: {test_df.shape}\")"
      ],
      "metadata": {
        "colab": {
          "base_uri": "https://localhost:8080/"
        },
        "id": "dHUOujkN2ukb",
        "outputId": "4b97f3e4-e4e6-44ee-d6ed-a2c9cc69e37c"
      },
      "execution_count": 8,
      "outputs": [
        {
          "output_type": "stream",
          "name": "stdout",
          "text": [
            "Train shape: (25000, 15), Test shape: (7561, 15)\n"
          ]
        }
      ]
    },
    {
      "cell_type": "code",
      "source": [
        "def encode_categorical(df, cat_columns):\n",
        "    encoded = {}\n",
        "    for col in cat_columns:\n",
        "        unique_vals = df[col].unique()\n",
        "        mapping = {val: idx for idx, val in enumerate(unique_vals)}\n",
        "        encoded[col] = df[col].map(mapping).values\n",
        "    return encoded\n",
        "\n",
        "cat_train_encoded = encode_categorical(train_df, cat_cols)\n",
        "cat_test_encoded = encode_categorical(test_df, cat_cols)\n",
        "\n",
        "# Stack into arrays (N, num_cat_features)\n",
        "cat_train = np.stack([cat_train_encoded[col] for col in cat_cols], axis=1).astype(np.int64)\n",
        "cat_test = np.stack([cat_test_encoded[col] for col in cat_cols], axis=1).astype(np.int64)\n",
        "\n",
        "# Continuous features\n",
        "con_train = train_df[con_cols].values.astype(np.float32)\n",
        "con_test = test_df[con_cols].values.astype(np.float32)\n",
        "\n",
        "# Labels as LongTensor for CrossEntropyLoss\n",
        "y_train = torch.LongTensor(train_df[target_col].values)\n",
        "y_test = torch.LongTensor(test_df[target_col].values)\n",
        "\n",
        "# Convert to tensors\n",
        "cat_train_tensor = torch.from_numpy(cat_train)\n",
        "cat_test_tensor = torch.from_numpy(cat_test)\n",
        "con_train_tensor = torch.from_numpy(con_train)\n",
        "con_test_tensor = torch.from_numpy(con_test)\n",
        "\n",
        "print(f\"Cat train shape: {cat_train_tensor.shape}\")\n",
        "print(f\"Con train shape: {con_train_tensor.shape}\")\n",
        "print(f\"y train shape: {y_train.shape}\")"
      ],
      "metadata": {
        "colab": {
          "base_uri": "https://localhost:8080/"
        },
        "id": "l57MY0ozBxJu",
        "outputId": "dd5dd78b-00dd-4fed-a0da-64876f9c612e"
      },
      "execution_count": 9,
      "outputs": [
        {
          "output_type": "stream",
          "name": "stdout",
          "text": [
            "Cat train shape: torch.Size([25000, 8])\n",
            "Con train shape: torch.Size([25000, 6])\n",
            "y train shape: torch.Size([25000])\n"
          ]
        }
      ]
    },
    {
      "cell_type": "code",
      "source": [
        "class TabularModel(nn.Module):\n",
        "    def __init__(self, emb_sizes, n_cont, out_sz, sz, p=0.4):\n",
        "        super().__init__()\n",
        "        # Embeddings for categorical\n",
        "        self.embeds = nn.ModuleList([nn.Embedding(ni, nf) for ni, nf in emb_sizes])\n",
        "        self.emb_drop = nn.Dropout(p)\n",
        "\n",
        "        # BatchNorm for continuous\n",
        "        self.bn_cont = nn.BatchNorm1d(n_cont)\n",
        "\n",
        "        # Layers: one hidden layer of 50 neurons with dropout\n",
        "        emb_total_sz = sum([nf for ni, nf in emb_sizes])\n",
        "        inp_sz = emb_total_sz + n_cont\n",
        "        self.layers = nn.Sequential(\n",
        "            nn.Linear(inp_sz, sz),\n",
        "            nn.ReLU(),\n",
        "            nn.BatchNorm1d(sz),\n",
        "            nn.Dropout(p),\n",
        "            nn.Linear(sz, out_sz)\n",
        "        )\n",
        "\n",
        "    def forward(self, x_cat, x_cont):\n",
        "        # Embed categorical\n",
        "        embeddings = [emb(x_cat[:, i]) for i, emb in enumerate(self.embeds)]\n",
        "        x_emb = torch.cat(embeddings, dim=1)\n",
        "        x_emb = self.emb_drop(x_emb)\n",
        "\n",
        "        # Normalize continuous\n",
        "        x_cont = self.bn_cont(x_cont)\n",
        "\n",
        "        # Concatenate\n",
        "        x = torch.cat([x_emb, x_cont], dim=1)\n",
        "\n",
        "        # Pass through layers\n",
        "        x = self.layers(x)\n",
        "        return x"
      ],
      "metadata": {
        "id": "YvyQR1hjCFbC"
      },
      "execution_count": 10,
      "outputs": []
    },
    {
      "cell_type": "code",
      "source": [
        "# Embedding sizes: (n_categories, min(50, (n_cat+1)//2))\n",
        "emb_sizes = [(len(train_df[col].unique()), min(50, (len(train_df[col].unique()) + 1) // 2)) for col in cat_cols]\n",
        "n_cont = len(con_cols)\n",
        "out_sz = 2  # Binary classification\n",
        "sz = 50  # Hidden layer size\n",
        "\n",
        "model = TabularModel(emb_sizes, n_cont, out_sz, sz, p=0.4)\n",
        "\n",
        "print(model)"
      ],
      "metadata": {
        "colab": {
          "base_uri": "https://localhost:8080/"
        },
        "id": "gVkce0oMJHS9",
        "outputId": "2bbfcb96-f5f8-489d-da29-58e93ddb4790"
      },
      "execution_count": 11,
      "outputs": [
        {
          "output_type": "stream",
          "name": "stdout",
          "text": [
            "TabularModel(\n",
            "  (embeds): ModuleList(\n",
            "    (0): Embedding(9, 5)\n",
            "    (1): Embedding(16, 8)\n",
            "    (2): Embedding(7, 4)\n",
            "    (3): Embedding(15, 8)\n",
            "    (4): Embedding(6, 3)\n",
            "    (5): Embedding(5, 3)\n",
            "    (6): Embedding(2, 1)\n",
            "    (7): Embedding(42, 21)\n",
            "  )\n",
            "  (emb_drop): Dropout(p=0.4, inplace=False)\n",
            "  (bn_cont): BatchNorm1d(6, eps=1e-05, momentum=0.1, affine=True, track_running_stats=True)\n",
            "  (layers): Sequential(\n",
            "    (0): Linear(in_features=59, out_features=50, bias=True)\n",
            "    (1): ReLU()\n",
            "    (2): BatchNorm1d(50, eps=1e-05, momentum=0.1, affine=True, track_running_stats=True)\n",
            "    (3): Dropout(p=0.4, inplace=False)\n",
            "    (4): Linear(in_features=50, out_features=2, bias=True)\n",
            "  )\n",
            ")\n"
          ]
        }
      ]
    },
    {
      "cell_type": "code",
      "source": [
        "torch.manual_seed(33)\n",
        "criterion = nn.CrossEntropyLoss()\n",
        "optimizer = optim.Adam(model.parameters(), lr=0.001)"
      ],
      "metadata": {
        "id": "iJHSbHYDJIwC"
      },
      "execution_count": 12,
      "outputs": []
    },
    {
      "cell_type": "code",
      "source": [
        "epochs = 300\n",
        "losses = []\n",
        "\n",
        "model.train()\n",
        "for epoch in range(epochs):\n",
        "    optimizer.zero_grad()\n",
        "    yhat = model(cat_train_tensor, con_train_tensor)\n",
        "    loss = criterion(yhat, y_train)\n",
        "    loss.backward()\n",
        "    optimizer.step()\n",
        "    losses.append(loss.detach().item())\n",
        "\n",
        "    if epoch % 50 == 0:\n",
        "        print(f'Epoch {epoch}/{epochs}, Loss: {loss.item():.4f}')\n",
        "\n",
        "# Plot losses\n",
        "plt.plot(losses)\n",
        "plt.xlabel('Epochs')\n",
        "plt.ylabel('Loss')\n",
        "plt.title('Training Loss')\n",
        "plt.show()"
      ],
      "metadata": {
        "colab": {
          "base_uri": "https://localhost:8080/",
          "height": 576
        },
        "id": "uVZcKarMJLYf",
        "outputId": "b5e705ab-9de0-4be6-9e4e-aea5580a2ea3"
      },
      "execution_count": 13,
      "outputs": [
        {
          "output_type": "stream",
          "name": "stdout",
          "text": [
            "Epoch 0/300, Loss: 0.9063\n",
            "Epoch 50/300, Loss: 0.5177\n",
            "Epoch 100/300, Loss: 0.4234\n",
            "Epoch 150/300, Loss: 0.3737\n",
            "Epoch 200/300, Loss: 0.3557\n",
            "Epoch 250/300, Loss: 0.3420\n"
          ]
        },
        {
          "output_type": "display_data",
          "data": {
            "text/plain": [
              "<Figure size 640x480 with 1 Axes>"
            ],
            "image/png": "[encoded data removed]"
          },
          "metadata": {}
        }
      ]
    },
    {
      "cell_type": "code",
      "source": [
        "model.eval()\n",
        "with torch.no_grad():\n",
        "    yhat_test = model(cat_test_tensor, con_test_tensor)\n",
        "    test_loss = criterion(yhat_test, y_test).item()\n",
        "\n",
        "    # Predictions\n",
        "    probs = torch.softmax(yhat_test, dim=1)\n",
        "    preds = torch.argmax(probs, dim=1)\n",
        "\n",
        "    # Accuracy\n",
        "    accuracy = (preds == y_test).float().mean().item() * 100\n",
        "print(\"Name:Meyyappan T\")\n",
        "print(\"Reg no:212223240086\")\n",
        "print(f'Test Loss: {test_loss:.4f}')\n",
        "print(f'Test Accuracy: {accuracy:.2f}%')"
      ],
      "metadata": {
        "colab": {
          "base_uri": "https://localhost:8080/"
        },
        "id": "NiarnK8ZJXQc",
        "outputId": "43fbbf88-e1f7-41f6-89cf-2f217a5e3ae6"
      },
      "execution_count": 15,
      "outputs": [
        {
          "output_type": "stream",
          "name": "stdout",
          "text": [
            "Name:Meyyappan T\n",
            "Reg no:212223240086\n",
            "Test Loss: 0.4821\n",
            "Test Accuracy: 79.87%\n"
          ]
        }
      ]
    },
    {
      "cell_type": "code",
      "source": [
        "def predict_income(model, cat_input_dict, con_input_list):\n",
        "    \"\"\"\n",
        "    Predict income for new data.\n",
        "    cat_input_dict: dict of categorical values (must match cat_cols order)\n",
        "    con_input_list: list of continuous values (must match con_cols order)\n",
        "    \"\"\"\n",
        "    # Encode cats (using train mappings, assume same)\n",
        "    cat_encoded = []\n",
        "    for i, col in enumerate(cat_cols):\n",
        "        unique_train = train_df[col].unique()\n",
        "        mapping = {val: idx for idx, val in enumerate(unique_train)}\n",
        "        if cat_input_dict[col] not in mapping:\n",
        "            # Handle unknown: map to last index or 'Unknown'\n",
        "            if 'Unknown' in mapping:\n",
        "                cat_encoded.append(mapping['Unknown'])\n",
        "            else:\n",
        "                cat_encoded.append(len(unique_train) - 1)  # Fallback\n",
        "        else:\n",
        "            cat_encoded.append(mapping[cat_input_dict[col]])\n",
        "\n",
        "    cat_new = torch.LongTensor([cat_encoded])\n",
        "    con_new = torch.FloatTensor([con_input_list])\n",
        "\n",
        "    model.eval()\n",
        "    with torch.no_grad():\n",
        "        yhat = model(cat_new, con_new)\n",
        "        prob = torch.softmax(yhat, dim=1)\n",
        "        pred_class = torch.argmax(prob, dim=1).item()\n",
        "        pred_prob = prob[0][1].item()  # Probability of >50K\n",
        "\n",
        "    return ' >50K' if pred_class == 1 else ' <=50K', pred_prob\n",
        "\n",
        "# Example usage (replace with actual values)\n",
        "example_cat = {'Workclass': 'Private', 'Education': 'Bachelors', 'Marital Status': 'Married-civ-spouse',\n",
        "               'Occupation': 'Exec-managerial', 'Relationship': 'Husband', 'Race': 'White',\n",
        "               'Gender': 'Male', 'Native Country': 'United-States'}\n",
        "example_con = [40, 100000, 13, 0, 0, 40]  # Age, fnlwgt, EducationNum, Cap Gain, Cap Loss, Hours/Week\n",
        "\n",
        "prediction, prob = predict_income(model, example_cat, example_con)\n",
        "print(f'Prediction: {prediction} (Probability >50K: {prob:.4f})')\n"
      ],
      "metadata": {
        "colab": {
          "base_uri": "https://localhost:8080/"
        },
        "id": "2TQdT9EsKJaE",
        "outputId": "7088eb53-0165-4eca-a53a-c3da33f349a3"
      },
      "execution_count": 16,
      "outputs": [
        {
          "output_type": "stream",
          "name": "stdout",
          "text": [
            "Prediction:  <=50K (Probability >50K: 0.2272)\n"
          ]
        }
      ]
    },
    {
      "cell_type": "code",
      "source": [],
      "metadata": {
        "id": "pJD6XyJjKeko"
      },
      "execution_count": null,
      "outputs": []
    }
  ]
}